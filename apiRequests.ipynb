{
 "cells": [
  {
   "cell_type": "markdown",
   "metadata": {
    "id": "aDrbTiS5DtVu"
   },
   "source": [
    "# Requests to Computer Vision APIs (plant.id, PlantNet, iNaturalist, NIA)"
   ]
  },
  {
   "cell_type": "code",
   "execution_count": null,
   "metadata": {
    "id": "uJ39A3lpD_rL"
   },
   "outputs": [],
   "source": [
    "# import of needed packages\n",
    "import base64\n",
    "import requests\n",
    "import getpass\n",
    "import csv\n",
    "import os\n",
    "import json\n",
    "from pprint import pprint\n",
    "import time"
   ]
  },
  {
   "cell_type": "code",
   "execution_count": null,
   "metadata": {
    "id": "m0dq5HDmDo9Z"
   },
   "outputs": [],
   "source": [
    "# function to request the Plant.id API\n",
    "def plantID (image, token, dir):\n",
    "  image_data = readImage(dir + \"/\" + image) \n",
    "  json_data = {\n",
    "    \"images\": image_data,\n",
    "    \"plant_details\": [\"common_names\", \"url\", \"taxonomy\"]\n",
    "  }\n",
    "  response = requests.post(\n",
    "    \"https://api.plant.id/v2/identify\",\n",
    "    json=json_data,\n",
    "    headers={\n",
    "        \"Content-Type\": \"application/json\",\n",
    "        \"Api-Key\": token\n",
    "    }).json()\n",
    "  result= [image]\n",
    "  for suggestion in response[\"suggestions\"]:\n",
    "      result.append(suggestion[\"plant_name\"])\n",
    "      result.append(str(suggestion[\"probability\"]))\n",
    "  return result"
   ]
  },
  {
   "cell_type": "code",
   "execution_count": null,
   "metadata": {
    "id": "zguR5RkqMdS-"
   },
   "outputs": [],
   "source": [
    "# function to request the plantNet API\n",
    "def plantNet (image, token, dir): \n",
    "  image_data = open(dir + \"/\" + image, 'rb')\n",
    "  api_endpoint = f\"https://my-api.plantnet.org/v2/identify/the-plant-list?api-key={token}\"\n",
    "\n",
    "\n",
    "  files = [\n",
    "      ('images', (image, image_data, ) )\n",
    "  ]\n",
    "    \n",
    "\n",
    "\n",
    "  req = requests.Request('POST', url=api_endpoint, files=files)\n",
    "  prepared = req.prepare()\n",
    "\n",
    "  s = requests.Session()\n",
    "  response = s.send(prepared)\n",
    "  json_result = json.loads(response.text)\n",
    "\n",
    "  pprint(response.status_code)\n",
    "  pprint(json_result)\n",
    "  result = [image]\n",
    "  if(response.status_code==404):\n",
    "        result.append(\"not found\")\n",
    "  elif(response.status_code==200): \n",
    "      for suggestion in json_result[\"results\"]:\n",
    "          result.append(suggestion[\"species\"][\"scientificNameWithoutAuthor\"]) \n",
    "          result.append(str(suggestion[\"score\"]))\n",
    "  return result"
   ]
  },
  {
   "cell_type": "code",
   "execution_count": null,
   "metadata": {
    "id": "m-i9gldEbbAe"
   },
   "outputs": [],
   "source": [
    "# function to request an access token for the NIA (Nature Identification API)\n",
    "def NiaRetrieveAccess (clientId, email, password): \n",
    "    data = {\n",
    "      'client_id': clientId,\n",
    "      'grant_type': 'password',\n",
    "      'email': email,\n",
    "      'password': password\n",
    "    }\n",
    "\n",
    "    response = requests.post('https://waarneming.nl/api/v1/oauth2/token/', data=data)\n",
    "\n",
    "    response_text_json = json.loads(response.text) \n",
    "    acces_token = response_text_json[\"access_token\"]\n",
    "\n",
    "    return acces_token"
   ]
  },
  {
   "cell_type": "code",
   "execution_count": null,
   "metadata": {
    "id": "HLrPrFVsbbAi"
   },
   "outputs": [],
   "source": [
    "# function to request the NIA API\n",
    "def NIA(image, token, dir):\n",
    "    image_dir = dir + \"/\" + image \n",
    "    \n",
    "    headers = {\n",
    "    'Authorization': 'Bearer ' + token,\n",
    "    }\n",
    "\n",
    "    params = (\n",
    "    ('app_name', 'uni-muenster'),\n",
    "    )\n",
    "\n",
    "    files = {\n",
    "    'image': (image_dir, open(image_dir, 'rb')),\n",
    "    }\n",
    "        \n",
    "    response = requests.post('https://waarneming.nl/api/identify-proxy/v1/', headers=headers, params=params, files=files)\n",
    "        \n",
    "    response_text_json = json.loads(response.text)\n",
    "    \n",
    "    result = [image]\n",
    "    \n",
    "    for prediction in response_text_json[\"predictions\"]:\n",
    "        result.append(prediction[\"taxon\"][\"name\"])\n",
    "        result.append(str(prediction[\"probability\"])) \n",
    "  \n",
    "    return result\n"
   ]
  },
  {
   "cell_type": "code",
   "execution_count": null,
   "metadata": {
    "id": "tRr2pNuDb5qL"
   },
   "outputs": [],
   "source": [
    "# function to request the iNaturalist API\n",
    "def iNaturalist(image, token, dir):\n",
    "    api_endpoint = \"https://visionapi.p.rapidapi.com/v1/rapidapi/score_image\"\n",
    "    image_data = open(dir + \"/\" + image, 'rb')\n",
    "\n",
    "    headers = {\n",
    "        'x-rapidapi-host': \"visionapi.p.rapidapi.com\",\n",
    "        'x-rapidapi-key': token\n",
    "    }\n",
    "\n",
    "    files = [\n",
    "      ('image', (image, image_data))\n",
    "    ]\n",
    "\n",
    "    req = requests.Request('POST', headers=headers, url=url, files=files)\n",
    "    prepared = req.prepare()\n",
    "    s = requests.Session()\n",
    "    response = s.send(prepared)\n",
    "    json_result = json.loads(response.text)\n",
    "    result = [image]\n",
    "    if(response.status_code==200): \n",
    "          for suggestion in json_result[\"results\"]:\n",
    "              result.append(suggestion[\"taxon\"][\"name\"])  \n",
    "              result.append(\"n/a\")\n",
    "    return result"
   ]
  },
  {
   "cell_type": "code",
   "execution_count": null,
   "metadata": {
    "id": "rJahqD-uFEkJ"
   },
   "outputs": [],
   "source": [
    "# encode image to base64\n",
    "def readImage (image_name):\n",
    "  with open(image_name, \"rb\") as file:\n",
    "    image = [base64.b64encode(file.read()).decode(\"ascii\")]\n",
    "  return image"
   ]
  },
  {
   "cell_type": "code",
   "execution_count": null,
   "metadata": {
    "id": "e1uoIZGqIwTJ"
   },
   "outputs": [],
   "source": [
    "# function to write the results to csv\n",
    "def writeDataToCSV (data, filename):\n",
    "  with open(filename,'a+', encoding='UTF8', newline='') as file:\n",
    "    writer = csv.writer(file)\n",
    "    writer.writerow(data)"
   ]
  },
  {
   "cell_type": "code",
   "execution_count": null,
   "metadata": {
    "colab": {
     "base_uri": "https://localhost:8080/"
    },
    "id": "oLordk4TFZU0",
    "outputId": "aa92fc39-244d-4dbe-ac48-78fd5d272dbf",
    "scrolled": true
   },
   "outputs": [],
   "source": [
    "## final excecution script\n",
    "dir = input('Directory with test images: ') \n",
    "filename = input('Filename of result CSV: ')  \n",
    "api = input('API (\"plantNet\",\"iNaturalist\", \"plantID\", \"NIA\"):  ') \n",
    "if (api == \"plantID\" or api == \"iNaturalist\" or api==\"NIA\" or api == \"plantNet\"): \n",
    "    if (api == \"NIA\"): \n",
    "        clientId= getpass.getpass(prompt='Client Id: ', stream=None) \n",
    "        email= input('Email: ') \n",
    "        password= getpass.getpass(prompt='Password: ', stream=None) \n",
    "        token = NiaRetrieveAccess(clientId, email, password)\n",
    "    else:\n",
    "        token= getpass.getpass(prompt='Api Key: ', stream=None) \n",
    "\n",
    "\n",
    "    # get all images from the test directory        \n",
    "    images = os.listdir(dir)\n",
    "\n",
    "    # requesting the API for each image in the test directory\n",
    "    for image in images:\n",
    "        response = eval(api + \"(image, token, dir)\")\n",
    "        writeDataToCSV(response, filename)\n",
    "        if (api == \"iNaturalist\"):\n",
    "          time.sleep(1) # limitation that just 60 requests per minute are allowed\n",
    "\n",
    "else:\n",
    "   print('API must be one of \"plantNet\",\"iNaturalist\", \"plantID\", \"NIA\"')\n",
    "\n",
    "    \n",
    "    "
   ]
  }
 ],
 "metadata": {
  "colab": {
   "collapsed_sections": [],
   "name": "apiRequests.ipynb",
   "provenance": []
  },
  "kernelspec": {
   "display_name": "Python 3",
   "language": "python",
   "name": "python3"
  },
  "language_info": {
   "codemirror_mode": {
    "name": "ipython",
    "version": 3
   },
   "file_extension": ".py",
   "mimetype": "text/x-python",
   "name": "python",
   "nbconvert_exporter": "python",
   "pygments_lexer": "ipython3",
   "version": "3.7.9"
  }
 },
 "nbformat": 4,
 "nbformat_minor": 1
}
